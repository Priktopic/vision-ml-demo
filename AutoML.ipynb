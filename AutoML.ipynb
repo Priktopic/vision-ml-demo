{
 "cells": [
  {
   "cell_type": "code",
   "execution_count": 13,
   "metadata": {},
   "outputs": [],
   "source": [
    "import os\n",
    "from google.cloud import automl_v1beta1 as automl"
   ]
  },
  {
   "cell_type": "code",
   "execution_count": 14,
   "metadata": {},
   "outputs": [],
   "source": [
    "os.environ[\"GOOGLE_APPLICATION_CREDENTIALS\"]=\"/home/priyanka/work/vision-ml-demo/projectcup-751f24d994bc.json\"\n",
    "client = automl.AutoMlClient()"
   ]
  },
  {
   "cell_type": "code",
   "execution_count": 39,
   "metadata": {},
   "outputs": [],
   "source": [
    "dataset_name = 'demo_data'\n",
    "multilabel = True\n",
    "dataset_id = 'ICN1283139185282894919'\n",
    "path = 'gs://projectcup-vcm/demo_data.csv'\n",
    "compute_region = \"us-central1\"\n",
    "project_id = \"projectcup\""
   ]
  },
  {
   "cell_type": "code",
   "execution_count": 30,
   "metadata": {},
   "outputs": [],
   "source": [
    "project_location = client.location_path(project_id, compute_region)\n",
    "\n",
    "classification_type = \"MULTICLASS\"\n",
    "if multilabel:\n",
    "    classification_type = \"MULTILABEL\"\n",
    "\n",
    "# Specify the image classification type for the dataset.\n",
    "dataset_metadata = {\"classification_type\" : classification_type}\n",
    "\n",
    "# Set dataset name and metadata of the dataset.\n",
    "my_dataset = {\n",
    "    \"display_name\": dataset_name,\n",
    "    \"image_classification_dataset_metadata\": dataset_metadata,\n",
    "}\n",
    "\n",
    "# Create a dataset with the dataset metadata in the region.\n",
    "dataset = client.create_dataset(project_location, my_dataset)\n",
    "\n",
    "# Display the dataset information.\n",
    "#print(\"Dataset name: {}\".format(dataset.name))\n",
    "#print(\"Dataset id: {}\".format(dataset.name.split(\"/\")[-1]))\n",
    "#print(\"Dataset display name: {}\".format(dataset.display_name))\n",
    "#print(\"Image classification dataset metadata:\")\n",
    "#print(\"\\t{}\".format(dataset.image_classification_dataset_metadata))\n",
    "#print(\"Dataset example count: {}\".format(dataset.example_count))\n",
    "#print(\"Dataset create time:\")\n",
    "#print(\"\\tseconds: {}\".format(dataset.create_time.seconds))\n",
    "#print(\"\\tnanos: {}\".format(dataset.create_time.nanos))\n"
   ]
  },
  {
   "cell_type": "code",
   "execution_count": 50,
   "metadata": {},
   "outputs": [
    {
     "name": "stdout",
     "output_type": "stream",
     "text": [
      "name: \"projects/1061136002132/locations/us-central1/datasets/ICN1283139185282894919\"\n",
      "display_name: \"demo_data\"\n",
      "create_time {\n",
      "  seconds: 1565200013\n",
      "  nanos: 284174000\n",
      "}\n",
      "image_classification_dataset_metadata {\n",
      "  classification_type: MULTILABEL\n",
      "}\n",
      "\n"
     ]
    }
   ],
   "source": [
    "print (dataset)"
   ]
  },
  {
   "cell_type": "code",
   "execution_count": 51,
   "metadata": {},
   "outputs": [
    {
     "name": "stdout",
     "output_type": "stream",
     "text": [
      "<google.api_core.operation.Operation object at 0x7f1ae4018400>\n"
     ]
    }
   ],
   "source": [
    "\n",
    "dataset_full_id = client.dataset_path(project_id, compute_region, dataset_id)\n",
    "#dataset_full_id = \"projects/projectcup/locations/us-central1/datasets/ICN1283139185282894919\"\n",
    "dataset_full_id\n",
    " # Get the multiple Google Cloud Storage URIs.\n",
    "input_uris = path.split(\",\")\n",
    "input_uris\n",
    "input_config = {\"gcs_source\": {\"input_uris\" : input_uris}}\n",
    "input_config\n",
    "# Import data from the input URI.\n",
    "response = client.import_data(dataset_full_id, input_config)\n",
    "print (response)\n",
    "\n",
    "\n",
    "#For Async use callback func\n",
    "\n",
    "# def callback(operation_future):\n",
    "#     # Handle result.\n",
    "#     result = operation_future.result()\n",
    "#     print (result)\n",
    "\n",
    "# response.add_done_callback(callback)\n",
    "\n",
    "\n",
    "# print(\"Processing import...\")\n",
    "# # synchronous check of operation status.\n",
    "# print(\"Data imported. {}\".format(response.result()))\n"
   ]
  },
  {
   "cell_type": "code",
   "execution_count": 52,
   "metadata": {},
   "outputs": [
    {
     "data": {
      "text/plain": []
     },
     "execution_count": 52,
     "metadata": {},
     "output_type": "execute_result"
    }
   ],
   "source": [
    "response.result()"
   ]
  },
  {
   "cell_type": "code",
   "execution_count": 54,
   "metadata": {},
   "outputs": [
    {
     "name": "stdout",
     "output_type": "stream",
     "text": [
      "Training operation name: projects/1061136002132/locations/us-central1/operations/ICN3479533764346743605\n",
      "Training started...\n"
     ]
    }
   ],
   "source": [
    "model_name = 'model_demo'\n",
    "train_budget = 1\n",
    "# Set model name and model metadata for the image dataset.\n",
    "my_model = {\n",
    "    \"display_name\": model_name,\n",
    "    \"dataset_id\": dataset_id,\n",
    "    \"image_classification_model_metadata\": {\"train_budget\": train_budget}\n",
    "    if train_budget\n",
    "    else {},\n",
    "}\n",
    "\n",
    "# Create a model with the model metadata in the region.\n",
    "response = client.create_model(project_location, my_model)\n",
    "\n",
    "print(\"Training operation name: {}\".format(response.operation.name))\n",
    "print(\"Training started...\")"
   ]
  },
  {
   "cell_type": "code",
   "execution_count": 55,
   "metadata": {},
   "outputs": [
    {
     "data": {
      "text/plain": [
       "name: \"projects/1061136002132/locations/us-central1/models/ICN7300546602418664951\""
      ]
     },
     "execution_count": 55,
     "metadata": {},
     "output_type": "execute_result"
    }
   ],
   "source": [
    "response.result()"
   ]
  },
  {
   "cell_type": "code",
   "execution_count": null,
   "metadata": {},
   "outputs": [],
   "source": []
  },
  {
   "cell_type": "code",
   "execution_count": null,
   "metadata": {},
   "outputs": [],
   "source": []
  },
  {
   "cell_type": "code",
   "execution_count": null,
   "metadata": {},
   "outputs": [],
   "source": []
  },
  {
   "cell_type": "code",
   "execution_count": null,
   "metadata": {},
   "outputs": [],
   "source": []
  },
  {
   "cell_type": "code",
   "execution_count": null,
   "metadata": {},
   "outputs": [],
   "source": []
  },
  {
   "cell_type": "code",
   "execution_count": null,
   "metadata": {},
   "outputs": [],
   "source": []
  },
  {
   "cell_type": "code",
   "execution_count": null,
   "metadata": {},
   "outputs": [],
   "source": []
  },
  {
   "cell_type": "code",
   "execution_count": null,
   "metadata": {},
   "outputs": [],
   "source": []
  },
  {
   "cell_type": "code",
   "execution_count": null,
   "metadata": {},
   "outputs": [],
   "source": []
  }
 ],
 "metadata": {
  "kernelspec": {
   "display_name": "Python 3",
   "language": "python",
   "name": "python3"
  },
  "language_info": {
   "codemirror_mode": {
    "name": "ipython",
    "version": 3
   },
   "file_extension": ".py",
   "mimetype": "text/x-python",
   "name": "python",
   "nbconvert_exporter": "python",
   "pygments_lexer": "ipython3",
   "version": "3.7.3"
  }
 },
 "nbformat": 4,
 "nbformat_minor": 2
}
