{
 "cells": [
  {
   "cell_type": "code",
   "execution_count": 13,
   "metadata": {},
   "outputs": [],
   "source": [
    "import os\n",
    "from google.cloud import automl_v1beta1 as automl"
   ]
  },
  {
   "cell_type": "code",
   "execution_count": 14,
   "metadata": {},
   "outputs": [],
   "source": [
    "os.environ[\"GOOGLE_APPLICATION_CREDENTIALS\"]=\"/home/priyanka/work/vision-ml-demo/projectcup-751f24d994bc.json\"\n",
    "client = automl.AutoMlClient()"
   ]
  },
  {
   "cell_type": "code",
   "execution_count": 29,
   "metadata": {},
   "outputs": [],
   "source": [
    "dataset_name = 'demo_data'\n",
    "multilabel = True\n",
    "#dataset_id = 'DATASET_ID_HERE'\n",
    "path = 'gs://projectcup-vcm/demo_data.csv'\n",
    "compute_region = \"us-central1\"\n",
    "project_id = \"projectcup\""
   ]
  },
  {
   "cell_type": "code",
   "execution_count": 30,
   "metadata": {},
   "outputs": [],
   "source": [
    "project_location = client.location_path(project_id, compute_region)\n",
    "\n",
    "classification_type = \"MULTICLASS\"\n",
    "if multilabel:\n",
    "    classification_type = \"MULTILABEL\"\n",
    "\n",
    "# Specify the image classification type for the dataset.\n",
    "dataset_metadata = {\"classification_type\" : classification_type}\n",
    "\n",
    "# Set dataset name and metadata of the dataset.\n",
    "my_dataset = {\n",
    "    \"display_name\": dataset_name,\n",
    "    \"image_classification_dataset_metadata\": dataset_metadata,\n",
    "}\n",
    "\n",
    "# Create a dataset with the dataset metadata in the region.\n",
    "dataset = client.create_dataset(project_location, my_dataset)\n",
    "\n",
    "# Display the dataset information.\n",
    "#print(\"Dataset name: {}\".format(dataset.name))\n",
    "#print(\"Dataset id: {}\".format(dataset.name.split(\"/\")[-1]))\n",
    "#print(\"Dataset display name: {}\".format(dataset.display_name))\n",
    "#print(\"Image classification dataset metadata:\")\n",
    "#print(\"\\t{}\".format(dataset.image_classification_dataset_metadata))\n",
    "#print(\"Dataset example count: {}\".format(dataset.example_count))\n",
    "#print(\"Dataset create time:\")\n",
    "#print(\"\\tseconds: {}\".format(dataset.create_time.seconds))\n",
    "#print(\"\\tnanos: {}\".format(dataset.create_time.nanos))\n"
   ]
  },
  {
   "cell_type": "code",
   "execution_count": null,
   "metadata": {},
   "outputs": [],
   "source": []
  },
  {
   "cell_type": "code",
   "execution_count": null,
   "metadata": {},
   "outputs": [],
   "source": [
    "\n"
   ]
  },
  {
   "cell_type": "code",
   "execution_count": null,
   "metadata": {},
   "outputs": [],
   "source": []
  },
  {
   "cell_type": "code",
   "execution_count": null,
   "metadata": {},
   "outputs": [],
   "source": []
  },
  {
   "cell_type": "code",
   "execution_count": null,
   "metadata": {},
   "outputs": [],
   "source": []
  },
  {
   "cell_type": "code",
   "execution_count": null,
   "metadata": {},
   "outputs": [],
   "source": []
  },
  {
   "cell_type": "code",
   "execution_count": null,
   "metadata": {},
   "outputs": [],
   "source": []
  },
  {
   "cell_type": "code",
   "execution_count": null,
   "metadata": {},
   "outputs": [],
   "source": []
  },
  {
   "cell_type": "code",
   "execution_count": null,
   "metadata": {},
   "outputs": [],
   "source": []
  },
  {
   "cell_type": "code",
   "execution_count": null,
   "metadata": {},
   "outputs": [],
   "source": []
  },
  {
   "cell_type": "code",
   "execution_count": null,
   "metadata": {},
   "outputs": [],
   "source": []
  },
  {
   "cell_type": "code",
   "execution_count": null,
   "metadata": {},
   "outputs": [],
   "source": []
  },
  {
   "cell_type": "code",
   "execution_count": null,
   "metadata": {},
   "outputs": [],
   "source": []
  }
 ],
 "metadata": {
  "kernelspec": {
   "display_name": "Python 3",
   "language": "python",
   "name": "python3"
  },
  "language_info": {
   "codemirror_mode": {
    "name": "ipython",
    "version": 3
   },
   "file_extension": ".py",
   "mimetype": "text/x-python",
   "name": "python",
   "nbconvert_exporter": "python",
   "pygments_lexer": "ipython3",
   "version": "3.7.3"
  }
 },
 "nbformat": 4,
 "nbformat_minor": 2
}
